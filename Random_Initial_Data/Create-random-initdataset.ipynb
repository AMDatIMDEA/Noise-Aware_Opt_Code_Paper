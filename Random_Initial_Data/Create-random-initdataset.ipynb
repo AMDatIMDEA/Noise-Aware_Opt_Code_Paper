{
 "cells": [
  {
   "cell_type": "markdown",
   "id": "4a750299-2ea8-45ac-a2ce-23ca32155d79",
   "metadata": {},
   "source": [
    "# Create random initial data for noise estimation and analysis for 3 nominally identical 3D printers case study"
   ]
  },
  {
   "cell_type": "markdown",
   "id": "f86dfc58-bff1-4a34-84f0-bcba137f453a",
   "metadata": {},
   "source": [
    "written by Christina Schenk\n",
    "\n",
    "last updated on 23 Oct 2025\n",
    "\n",
    "tested on Christina's Mac\n",
    "\n",
    "This notebook creates an initial dataset for performing Bayesian optimization for optimizing printing parameters targeting density/weight and noise estimation\n",
    "\n",
    "This is shows the initial data creation for the \"Noise-Aware Optimization in Nominally Identical Measuring Systems for High-Throughput Parallel Workflows\" Manuscript by Christina Schenk et al. (2025).\n",
    "\n",
    "The steps of the workflow are the following:\n",
    "\n",
    "* Import data set and initialize setting\n",
    "* Generate random initial dataset\n",
    "* Write to file"
   ]
  },
  {
   "cell_type": "code",
   "execution_count": 1,
   "id": "12bf95a1-aa0c-4d19-82de-5ffa69fcc018",
   "metadata": {},
   "outputs": [],
   "source": [
    "import os\n",
    "import pandas as pd\n",
    "import numpy as np\n",
    "from gpcam import GPOptimizer,AutonomousExperimenterGP\n",
    "from scipy.interpolate import griddata\n",
    "import matplotlib.pyplot as plt"
   ]
  },
  {
   "cell_type": "markdown",
   "id": "842f4eb8-5220-4761-9eed-63f91edddb74",
   "metadata": {},
   "source": [
    "## Define design setting"
   ]
  },
  {
   "cell_type": "code",
   "execution_count": 2,
   "id": "d2a3032a-a996-40f9-92fb-c6627ae3ace4",
   "metadata": {
    "tags": []
   },
   "outputs": [],
   "source": [
    "#Lower and upper bounds for the parameters:\n",
    "#speed fixed at 100 and LW at 0.8\n",
    "f_lb = 1000\n",
    "f_ub = 5000\n",
    "lh_lb = 0.2\n",
    "lh_ub = 0.6\n",
    "\n",
    "#number of points in x and y direction at which we want to predict:\n",
    "n_pts = 100\n",
    "\n",
    "#number of autonomous experiments that you would like to run:\n",
    "N_exp = 19\n",
    "\n",
    "#dimension of design space:\n",
    "dim = 2"
   ]
  },
  {
   "cell_type": "markdown",
   "id": "7a7b2745-b69e-47c2-a966-42cb4fed5215",
   "metadata": {},
   "source": [
    "## Initialization"
   ]
  },
  {
   "cell_type": "code",
   "execution_count": 3,
   "id": "d40ec10c-b4d2-4171-85bf-c0ddea70da04",
   "metadata": {},
   "outputs": [],
   "source": [
    "parameter_bounds = np.array([[f_lb,f_ub], [lh_lb, lh_ub]])"
   ]
  },
  {
   "cell_type": "markdown",
   "id": "2b779d79-4dd9-4a5c-b0b3-f8e210465f7c",
   "metadata": {},
   "source": [
    "## Data"
   ]
  },
  {
   "cell_type": "code",
   "execution_count": 4,
   "id": "24c69ca7-bac7-4604-8440-b9ac76d8f5b8",
   "metadata": {},
   "outputs": [],
   "source": [
    "data = pd.read_excel(\"./data//data_noise_LPLA_refpoint.xlsx\")"
   ]
  },
  {
   "cell_type": "code",
   "execution_count": 5,
   "id": "53364eb8-e949-4035-98d7-0347bfa400a1",
   "metadata": {},
   "outputs": [],
   "source": [
    "wmeanrep1 = data.loc[0:2, 'Wmean'].mean()"
   ]
  },
  {
   "cell_type": "code",
   "execution_count": 6,
   "id": "befb835a-ff01-4297-a3a2-4575c269b5be",
   "metadata": {},
   "outputs": [
    {
     "data": {
      "text/plain": [
       "0    4.644000\n",
       "1    4.655333\n",
       "2    4.525000\n",
       "Name: Wmean, dtype: float64"
      ]
     },
     "execution_count": 6,
     "metadata": {},
     "output_type": "execute_result"
    }
   ],
   "source": [
    "data.loc[0:2, 'Wmean']"
   ]
  },
  {
   "cell_type": "code",
   "execution_count": 7,
   "id": "7c519792-60cf-4161-8af2-80ad24f66986",
   "metadata": {},
   "outputs": [
    {
     "data": {
      "text/plain": [
       "4.608111111"
      ]
     },
     "execution_count": 7,
     "metadata": {},
     "output_type": "execute_result"
    }
   ],
   "source": [
    "wmeanrep1"
   ]
  },
  {
   "cell_type": "code",
   "execution_count": 8,
   "id": "a37db9e6-5d5b-421e-abe1-f70f0532cd61",
   "metadata": {},
   "outputs": [],
   "source": [
    "data_ref1 = data.loc[0,['Flow', 'LH', 'Wmean']]\n",
    "data_ref1.loc['Wmean'] = wmeanrep1"
   ]
  },
  {
   "cell_type": "code",
   "execution_count": 9,
   "id": "6c190c10-99de-4ab1-8e94-d750f769805c",
   "metadata": {},
   "outputs": [
    {
     "data": {
      "text/plain": [
       "Flow       3000.0\n",
       "LH            0.4\n",
       "Wmean    4.608111\n",
       "Name: 0, dtype: object"
      ]
     },
     "execution_count": 9,
     "metadata": {},
     "output_type": "execute_result"
    }
   ],
   "source": [
    "data_ref1"
   ]
  },
  {
   "cell_type": "code",
   "execution_count": 10,
   "id": "ebc607e6-e848-4cea-9ca4-d85fac1bfd54",
   "metadata": {},
   "outputs": [
    {
     "name": "stdout",
     "output_type": "stream",
     "text": [
      "(3,)\n"
     ]
    }
   ],
   "source": [
    "data_array_ref1 = np.array(data_ref1)\n",
    "np.save('./data/data-init_ref1.npy', data_array_ref1)\n",
    "data_path = \"../data\"\n",
    "data_npy = np.load(os.path.join(data_path,\"data-init_ref1.npy\"), allow_pickle=True)\n",
    "print(np.shape(data_npy))\n",
    "points = data_npy[0:dim]\n",
    "values = data_npy[dim:dim+1]\n"
   ]
  },
  {
   "cell_type": "code",
   "execution_count": 11,
   "id": "3adf7f00-2c97-4b1d-91a9-23dd2e6be8a3",
   "metadata": {},
   "outputs": [
    {
     "name": "stdout",
     "output_type": "stream",
     "text": [
      "(2,)\n",
      "(1,)\n",
      "[3000.0 0.4]\n",
      "[4.608111111]\n"
     ]
    }
   ],
   "source": [
    "#it is good practice to check the format of the data\n",
    "print(points.shape)\n",
    "print(values.shape)\n",
    "print(points)\n",
    "print(values)"
   ]
  },
  {
   "cell_type": "markdown",
   "id": "0a482025-5c1c-4a3f-845a-e6940d86b284",
   "metadata": {},
   "source": [
    "#### Define some points at which we will predict, still has nothing to do with gpCAM "
   ]
  },
  {
   "cell_type": "code",
   "execution_count": 12,
   "id": "85c407c2-4188-4699-9f3d-b3fb325a3673",
   "metadata": {
    "tags": []
   },
   "outputs": [],
   "source": [
    "x_pred = np.zeros((n_pts*n_pts,2))\n",
    "x = np.linspace(f_lb,f_ub,n_pts)\n",
    "y = np.linspace(lh_lb,lh_ub,n_pts)\n",
    "X,Y = np.meshgrid(x,y)\n",
    "counter = 0\n",
    "for i in  range(n_pts):\n",
    "    for j in range(n_pts):\n",
    "        x_pred[counter] = np.array([X[i,j],Y[i,j]])\n",
    "        counter += 1"
   ]
  },
  {
   "cell_type": "markdown",
   "id": "0da8c670-ca6b-4d8d-b969-fc0047f9819a",
   "metadata": {},
   "source": [
    "## Create random dataset"
   ]
  },
  {
   "cell_type": "code",
   "execution_count": 13,
   "id": "f5cb8bb1-57db-4925-bd06-e908d278397b",
   "metadata": {
    "scrolled": true
   },
   "outputs": [
    {
     "name": "stdout",
     "output_type": "stream",
     "text": [
      "Suggested by gpCAM:  [2.80293961e+03 5.78817018e-01]\n",
      "Suggested by gpCAM:  [2.58436145e+03 5.97435264e-01]\n",
      "Suggested by gpCAM:  [1.88963245e+03 2.42580024e-01]\n",
      "Suggested by gpCAM:  [2.91643236e+03 4.86466444e-01]\n",
      "Suggested by gpCAM:  [1.67483796e+03 5.54070523e-01]\n",
      "Suggested by gpCAM:  [2.53761039e+03 4.78227464e-01]\n",
      "Suggested by gpCAM:  [3.48737936e+03 3.40505639e-01]\n",
      "Suggested by gpCAM:  [4.70685686e+03 4.19126259e-01]\n",
      "Suggested by gpCAM:  [4.94922786e+03 2.25240715e-01]\n",
      "Suggested by gpCAM:  [1.37892718e+03 5.24839210e-01]\n",
      "Suggested by gpCAM:  [3.84721957e+03 2.82876567e-01]\n",
      "Suggested by gpCAM:  [2.10874863e+03 3.24688979e-01]\n",
      "Suggested by gpCAM:  [2.82767665e+03 2.47298965e-01]\n",
      "Suggested by gpCAM:  [4.38029888e+03 5.96649779e-01]\n",
      "Suggested by gpCAM:  [3.18203388e+03 2.02323038e-01]\n",
      "Suggested by gpCAM:  [3.11038989e+03 2.71116590e-01]\n",
      "Suggested by gpCAM:  [1.22834695e+03 3.99157901e-01]\n",
      "Suggested by gpCAM:  [4.58623317e+03 3.89410190e-01]\n",
      "Suggested by gpCAM:  [4.67089922e+03 2.34589706e-01]\n",
      "\n",
      "[[2.80293961e+03 5.78817018e-01]\n",
      " [2.58436145e+03 5.97435264e-01]\n",
      " [1.88963245e+03 2.42580024e-01]\n",
      " [2.91643236e+03 4.86466444e-01]\n",
      " [1.67483796e+03 5.54070523e-01]\n",
      " [2.53761039e+03 4.78227464e-01]\n",
      " [3.48737936e+03 3.40505639e-01]\n",
      " [4.70685686e+03 4.19126259e-01]\n",
      " [4.94922786e+03 2.25240715e-01]\n",
      " [1.37892718e+03 5.24839210e-01]\n",
      " [3.84721957e+03 2.82876567e-01]\n",
      " [2.10874863e+03 3.24688979e-01]\n",
      " [2.82767665e+03 2.47298965e-01]\n",
      " [4.38029888e+03 5.96649779e-01]\n",
      " [3.18203388e+03 2.02323038e-01]\n",
      " [3.11038989e+03 2.71116590e-01]\n",
      " [1.22834695e+03 3.99157901e-01]\n",
      " [4.58623317e+03 3.89410190e-01]\n",
      " [4.67089922e+03 2.34589706e-01]]\n"
     ]
    },
    {
     "name": "stderr",
     "output_type": "stream",
     "text": [
      "/Users/christinaschenk/Programs/LabAutomation/gpcam8imatepip_env/lib/python3.9/site-packages/gpcam/gp_optimizer.py:343: UserWarning: No noise function or measurement noise provided. Noise variances will be set to 1% of mean(y_data).\n",
      "  super().__init__(\n"
     ]
    }
   ],
   "source": [
    "n_initdata = N_exp\n",
    "#Just for creation of random dataset, rest we will do with gpOptimizer and our own loop\n",
    "def instrument(data, instrument_dict = {}):\n",
    "    for entry in data:\n",
    "        print(\"Suggested by gpCAM: \", entry[\"x_data\"])\n",
    "        entry[\"y_data\"] = griddata(x,y,entry[\"x_data\"],method = \"nearest\", fill_value = 0)[0]\n",
    "    print(\"\")\n",
    "    return data\n",
    "    \n",
    "my_ae = AutonomousExperimenterGP(parameter_bounds,\n",
    "                                 init_dataset_size=n_initdata, instrument_function = instrument)\n",
    "\n",
    "randomarray = np.vstack([my_ae.data.dataset[i][\"x_data\"] for i in range(n_initdata)])\n",
    "print(randomarray)"
   ]
  },
  {
   "cell_type": "code",
   "execution_count": 15,
   "id": "68bc0550-0394-461d-8bb7-0d07abf44bab",
   "metadata": {
    "scrolled": true
   },
   "outputs": [
    {
     "data": {
      "image/png": "[encoded data removed]",
      "text/plain": [
       "<Figure size 640x480 with 1 Axes>"
      ]
     },
     "metadata": {},
     "output_type": "display_data"
    }
   ],
   "source": [
    "plt.scatter(randomarray[:,0], randomarray[:,1])\n",
    "plt.scatter(points[0], points[1])\n",
    "plt.savefig('scatterplot_randompts.png')"
   ]
  },
  {
   "cell_type": "code",
   "execution_count": 16,
   "id": "6c8850c6-d284-4f7e-8ff0-01812fbfe417",
   "metadata": {},
   "outputs": [],
   "source": [
    "printid = np.array([1,2])\n",
    "allprintid0 = np.repeat(int(printid[0]), len(randomarray))\n",
    "allprintid1 = np.repeat(int(printid[1]), len(randomarray))\n",
    "allprintid0 = np.array(allprintid0, dtype=int).reshape(-1,1)\n",
    "allprintid1 = np.array(allprintid1, dtype=int).reshape(-1,1)\n",
    "random_all_comps_rep0 = np.hstack((randomarray, allprintid0))\n",
    "random_all_comps_rep1 = np.hstack((randomarray, allprintid1))\n",
    "random_all_comps_rep = np.vstack((random_all_comps_rep0, random_all_comps_rep1))"
   ]
  },
  {
   "cell_type": "code",
   "execution_count": 17,
   "id": "917725ca-dca1-4795-aaf7-bd0401715488",
   "metadata": {
    "scrolled": true
   },
   "outputs": [],
   "source": [
    "#Just take first 6 points\n",
    "data_new = data.iloc[0:6,:]\n",
    "#remove Unnamed columns\n",
    "data_new = data_new.loc[:, ~data_new.columns.str.contains('^Unnamed')]\n",
    "#repeat each entry 3 times for consecutive repetitions\n",
    "random_all_comps_rep_all = np.repeat(random_all_comps_rep, 3, axis=0)"
   ]
  },
  {
   "cell_type": "code",
   "execution_count": 18,
   "id": "a08d3b12-01d8-4f9f-8ef1-ec43c418264e",
   "metadata": {},
   "outputs": [],
   "source": [
    "data_new2 = data_new"
   ]
  },
  {
   "cell_type": "code",
   "execution_count": 19,
   "id": "fdbaabcf-087e-4fbb-84f0-d2d67f11f028",
   "metadata": {},
   "outputs": [
    {
     "name": "stderr",
     "output_type": "stream",
     "text": [
      "/var/folders/63/vmpx1vmx3s59d2ky2fm1zzww0000gp/T/ipykernel_3920/2128979684.py:3: FutureWarning: The behavior of DataFrame concatenation with empty or all-NA entries is deprecated. In a future version, this will no longer exclude empty or all-NA columns when determining the result dtypes. To retain the old behavior, exclude the relevant entries before the concat operation.\n",
      "  data_new2 = pd.concat([data_new, empty_rows], ignore_index=True)\n"
     ]
    }
   ],
   "source": [
    "#add empty rows for adding new suggestions to excel file\n",
    "empty_rows = pd.DataFrame(columns=data_new.columns, index=range(len(random_all_comps_rep_all)))\n",
    "data_new2 = pd.concat([data_new, empty_rows], ignore_index=True)"
   ]
  },
  {
   "cell_type": "code",
   "execution_count": 20,
   "id": "75fcbad0-da77-4c88-9588-5bed2b3b8305",
   "metadata": {
    "scrolled": true
   },
   "outputs": [
    {
     "data": {
      "text/html": [
       "<div>\n",
       "<style scoped>\n",
       "    .dataframe tbody tr th:only-of-type {\n",
       "        vertical-align: middle;\n",
       "    }\n",
       "\n",
       "    .dataframe tbody tr th {\n",
       "        vertical-align: top;\n",
       "    }\n",
       "\n",
       "    .dataframe thead th {\n",
       "        text-align: right;\n",
       "    }\n",
       "</style>\n",
       "<table border=\"1\" class=\"dataframe\">\n",
       "  <thead>\n",
       "    <tr style=\"text-align: right;\">\n",
       "      <th></th>\n",
       "      <th>Flow</th>\n",
       "      <th>LH</th>\n",
       "      <th>PrintID</th>\n",
       "      <th>Rep</th>\n",
       "      <th>Wmean</th>\n",
       "      <th>W1</th>\n",
       "      <th>W2</th>\n",
       "      <th>W3</th>\n",
       "      <th>Operator</th>\n",
       "      <th>Date</th>\n",
       "      <th>Start Time</th>\n",
       "    </tr>\n",
       "  </thead>\n",
       "  <tbody>\n",
       "    <tr>\n",
       "      <th>0</th>\n",
       "      <td>3000.0</td>\n",
       "      <td>0.4</td>\n",
       "      <td>1.0</td>\n",
       "      <td>1.0</td>\n",
       "      <td>4.644000</td>\n",
       "      <td>4.675</td>\n",
       "      <td>4.469</td>\n",
       "      <td>4.788</td>\n",
       "      <td>BS</td>\n",
       "      <td>2024-06-13</td>\n",
       "      <td>13:00:00</td>\n",
       "    </tr>\n",
       "    <tr>\n",
       "      <th>1</th>\n",
       "      <td>3000.0</td>\n",
       "      <td>0.4</td>\n",
       "      <td>1.0</td>\n",
       "      <td>2.0</td>\n",
       "      <td>4.655333</td>\n",
       "      <td>4.532</td>\n",
       "      <td>4.733</td>\n",
       "      <td>4.701</td>\n",
       "      <td>BS</td>\n",
       "      <td>2024-06-13</td>\n",
       "      <td>14:00:00</td>\n",
       "    </tr>\n",
       "    <tr>\n",
       "      <th>2</th>\n",
       "      <td>3000.0</td>\n",
       "      <td>0.4</td>\n",
       "      <td>1.0</td>\n",
       "      <td>3.0</td>\n",
       "      <td>4.525000</td>\n",
       "      <td>4.620</td>\n",
       "      <td>4.472</td>\n",
       "      <td>4.483</td>\n",
       "      <td>BS</td>\n",
       "      <td>2024-06-13</td>\n",
       "      <td>15:00:00</td>\n",
       "    </tr>\n",
       "    <tr>\n",
       "      <th>3</th>\n",
       "      <td>3000.0</td>\n",
       "      <td>0.4</td>\n",
       "      <td>2.0</td>\n",
       "      <td>1.0</td>\n",
       "      <td>3.621000</td>\n",
       "      <td>3.712</td>\n",
       "      <td>3.680</td>\n",
       "      <td>3.471</td>\n",
       "      <td>BS</td>\n",
       "      <td>2024-06-13</td>\n",
       "      <td>14:00:00</td>\n",
       "    </tr>\n",
       "    <tr>\n",
       "      <th>4</th>\n",
       "      <td>3000.0</td>\n",
       "      <td>0.4</td>\n",
       "      <td>2.0</td>\n",
       "      <td>2.0</td>\n",
       "      <td>3.433667</td>\n",
       "      <td>3.248</td>\n",
       "      <td>3.512</td>\n",
       "      <td>3.541</td>\n",
       "      <td>BS</td>\n",
       "      <td>2024-06-13</td>\n",
       "      <td>15:00:00</td>\n",
       "    </tr>\n",
       "    <tr>\n",
       "      <th>...</th>\n",
       "      <td>...</td>\n",
       "      <td>...</td>\n",
       "      <td>...</td>\n",
       "      <td>...</td>\n",
       "      <td>...</td>\n",
       "      <td>...</td>\n",
       "      <td>...</td>\n",
       "      <td>...</td>\n",
       "      <td>...</td>\n",
       "      <td>...</td>\n",
       "      <td>...</td>\n",
       "    </tr>\n",
       "    <tr>\n",
       "      <th>115</th>\n",
       "      <td>NaN</td>\n",
       "      <td>NaN</td>\n",
       "      <td>NaN</td>\n",
       "      <td>NaN</td>\n",
       "      <td>NaN</td>\n",
       "      <td>NaN</td>\n",
       "      <td>NaN</td>\n",
       "      <td>NaN</td>\n",
       "      <td>NaN</td>\n",
       "      <td>NaT</td>\n",
       "      <td>NaN</td>\n",
       "    </tr>\n",
       "    <tr>\n",
       "      <th>116</th>\n",
       "      <td>NaN</td>\n",
       "      <td>NaN</td>\n",
       "      <td>NaN</td>\n",
       "      <td>NaN</td>\n",
       "      <td>NaN</td>\n",
       "      <td>NaN</td>\n",
       "      <td>NaN</td>\n",
       "      <td>NaN</td>\n",
       "      <td>NaN</td>\n",
       "      <td>NaT</td>\n",
       "      <td>NaN</td>\n",
       "    </tr>\n",
       "    <tr>\n",
       "      <th>117</th>\n",
       "      <td>NaN</td>\n",
       "      <td>NaN</td>\n",
       "      <td>NaN</td>\n",
       "      <td>NaN</td>\n",
       "      <td>NaN</td>\n",
       "      <td>NaN</td>\n",
       "      <td>NaN</td>\n",
       "      <td>NaN</td>\n",
       "      <td>NaN</td>\n",
       "      <td>NaT</td>\n",
       "      <td>NaN</td>\n",
       "    </tr>\n",
       "    <tr>\n",
       "      <th>118</th>\n",
       "      <td>NaN</td>\n",
       "      <td>NaN</td>\n",
       "      <td>NaN</td>\n",
       "      <td>NaN</td>\n",
       "      <td>NaN</td>\n",
       "      <td>NaN</td>\n",
       "      <td>NaN</td>\n",
       "      <td>NaN</td>\n",
       "      <td>NaN</td>\n",
       "      <td>NaT</td>\n",
       "      <td>NaN</td>\n",
       "    </tr>\n",
       "    <tr>\n",
       "      <th>119</th>\n",
       "      <td>NaN</td>\n",
       "      <td>NaN</td>\n",
       "      <td>NaN</td>\n",
       "      <td>NaN</td>\n",
       "      <td>NaN</td>\n",
       "      <td>NaN</td>\n",
       "      <td>NaN</td>\n",
       "      <td>NaN</td>\n",
       "      <td>NaN</td>\n",
       "      <td>NaT</td>\n",
       "      <td>NaN</td>\n",
       "    </tr>\n",
       "  </tbody>\n",
       "</table>\n",
       "<p>120 rows × 11 columns</p>\n",
       "</div>"
      ],
      "text/plain": [
       "       Flow   LH  PrintID  Rep     Wmean     W1     W2     W3 Operator  \\\n",
       "0    3000.0  0.4      1.0  1.0  4.644000  4.675  4.469  4.788       BS   \n",
       "1    3000.0  0.4      1.0  2.0  4.655333  4.532  4.733  4.701       BS   \n",
       "2    3000.0  0.4      1.0  3.0  4.525000  4.620  4.472  4.483       BS   \n",
       "3    3000.0  0.4      2.0  1.0  3.621000  3.712  3.680  3.471       BS   \n",
       "4    3000.0  0.4      2.0  2.0  3.433667  3.248  3.512  3.541       BS   \n",
       "..      ...  ...      ...  ...       ...    ...    ...    ...      ...   \n",
       "115     NaN  NaN      NaN  NaN       NaN    NaN    NaN    NaN      NaN   \n",
       "116     NaN  NaN      NaN  NaN       NaN    NaN    NaN    NaN      NaN   \n",
       "117     NaN  NaN      NaN  NaN       NaN    NaN    NaN    NaN      NaN   \n",
       "118     NaN  NaN      NaN  NaN       NaN    NaN    NaN    NaN      NaN   \n",
       "119     NaN  NaN      NaN  NaN       NaN    NaN    NaN    NaN      NaN   \n",
       "\n",
       "          Date Start Time  \n",
       "0   2024-06-13   13:00:00  \n",
       "1   2024-06-13   14:00:00  \n",
       "2   2024-06-13   15:00:00  \n",
       "3   2024-06-13   14:00:00  \n",
       "4   2024-06-13   15:00:00  \n",
       "..         ...        ...  \n",
       "115        NaT        NaN  \n",
       "116        NaT        NaN  \n",
       "117        NaT        NaN  \n",
       "118        NaT        NaN  \n",
       "119        NaT        NaN  \n",
       "\n",
       "[120 rows x 11 columns]"
      ]
     },
     "execution_count": 20,
     "metadata": {},
     "output_type": "execute_result"
    }
   ],
   "source": [
    "data_new2"
   ]
  },
  {
   "cell_type": "code",
   "execution_count": 21,
   "id": "af602758-269d-4e1b-8c2f-0b336fdf7cb8",
   "metadata": {},
   "outputs": [],
   "source": [
    "#write new suggestions to data frame:\n",
    "for i in range(len(random_all_comps_rep_all)):\n",
    "    data_new2.loc[6+i,'Flow'] = random_all_comps_rep_all[i,0]\n",
    "    data_new2.loc[6+i,'LH'] = random_all_comps_rep_all[i,1]\n",
    "    data_new2.loc[6+i,'PrintID'] = random_all_comps_rep_all[i,2] "
   ]
  },
  {
   "cell_type": "code",
   "execution_count": 22,
   "id": "a62e1a60-6108-4edc-a08a-d5db3fc1c133",
   "metadata": {},
   "outputs": [],
   "source": [
    "#add consecutive reps to dataframe\n",
    "j=0\n",
    "while j < len(data_new2):\n",
    "    data_new2.loc[j,'Rep'] = 1\n",
    "    data_new2.loc[j+1,'Rep'] = 2\n",
    "    data_new2.loc[j+2,'Rep'] = 3\n",
    "    j=j+3"
   ]
  },
  {
   "cell_type": "code",
   "execution_count": 23,
   "id": "5d0cd2dc-0dc2-40cd-a7c5-a8ff7f51af85",
   "metadata": {},
   "outputs": [
    {
     "data": {
      "text/html": [
       "<div>\n",
       "<style scoped>\n",
       "    .dataframe tbody tr th:only-of-type {\n",
       "        vertical-align: middle;\n",
       "    }\n",
       "\n",
       "    .dataframe tbody tr th {\n",
       "        vertical-align: top;\n",
       "    }\n",
       "\n",
       "    .dataframe thead th {\n",
       "        text-align: right;\n",
       "    }\n",
       "</style>\n",
       "<table border=\"1\" class=\"dataframe\">\n",
       "  <thead>\n",
       "    <tr style=\"text-align: right;\">\n",
       "      <th></th>\n",
       "      <th>Flow</th>\n",
       "      <th>LH</th>\n",
       "      <th>PrintID</th>\n",
       "      <th>Rep</th>\n",
       "      <th>Wmean</th>\n",
       "      <th>W1</th>\n",
       "      <th>W2</th>\n",
       "      <th>W3</th>\n",
       "      <th>Operator</th>\n",
       "      <th>Date</th>\n",
       "      <th>Start Time</th>\n",
       "    </tr>\n",
       "  </thead>\n",
       "  <tbody>\n",
       "    <tr>\n",
       "      <th>0</th>\n",
       "      <td>3000.000000</td>\n",
       "      <td>0.40000</td>\n",
       "      <td>1.0</td>\n",
       "      <td>1.0</td>\n",
       "      <td>4.644000</td>\n",
       "      <td>4.675</td>\n",
       "      <td>4.469</td>\n",
       "      <td>4.788</td>\n",
       "      <td>BS</td>\n",
       "      <td>2024-06-13</td>\n",
       "      <td>13:00:00</td>\n",
       "    </tr>\n",
       "    <tr>\n",
       "      <th>1</th>\n",
       "      <td>3000.000000</td>\n",
       "      <td>0.40000</td>\n",
       "      <td>1.0</td>\n",
       "      <td>2.0</td>\n",
       "      <td>4.655333</td>\n",
       "      <td>4.532</td>\n",
       "      <td>4.733</td>\n",
       "      <td>4.701</td>\n",
       "      <td>BS</td>\n",
       "      <td>2024-06-13</td>\n",
       "      <td>14:00:00</td>\n",
       "    </tr>\n",
       "    <tr>\n",
       "      <th>2</th>\n",
       "      <td>3000.000000</td>\n",
       "      <td>0.40000</td>\n",
       "      <td>1.0</td>\n",
       "      <td>3.0</td>\n",
       "      <td>4.525000</td>\n",
       "      <td>4.620</td>\n",
       "      <td>4.472</td>\n",
       "      <td>4.483</td>\n",
       "      <td>BS</td>\n",
       "      <td>2024-06-13</td>\n",
       "      <td>15:00:00</td>\n",
       "    </tr>\n",
       "    <tr>\n",
       "      <th>3</th>\n",
       "      <td>3000.000000</td>\n",
       "      <td>0.40000</td>\n",
       "      <td>2.0</td>\n",
       "      <td>1.0</td>\n",
       "      <td>3.621000</td>\n",
       "      <td>3.712</td>\n",
       "      <td>3.680</td>\n",
       "      <td>3.471</td>\n",
       "      <td>BS</td>\n",
       "      <td>2024-06-13</td>\n",
       "      <td>14:00:00</td>\n",
       "    </tr>\n",
       "    <tr>\n",
       "      <th>4</th>\n",
       "      <td>3000.000000</td>\n",
       "      <td>0.40000</td>\n",
       "      <td>2.0</td>\n",
       "      <td>2.0</td>\n",
       "      <td>3.433667</td>\n",
       "      <td>3.248</td>\n",
       "      <td>3.512</td>\n",
       "      <td>3.541</td>\n",
       "      <td>BS</td>\n",
       "      <td>2024-06-13</td>\n",
       "      <td>15:00:00</td>\n",
       "    </tr>\n",
       "    <tr>\n",
       "      <th>...</th>\n",
       "      <td>...</td>\n",
       "      <td>...</td>\n",
       "      <td>...</td>\n",
       "      <td>...</td>\n",
       "      <td>...</td>\n",
       "      <td>...</td>\n",
       "      <td>...</td>\n",
       "      <td>...</td>\n",
       "      <td>...</td>\n",
       "      <td>...</td>\n",
       "      <td>...</td>\n",
       "    </tr>\n",
       "    <tr>\n",
       "      <th>115</th>\n",
       "      <td>4586.233170</td>\n",
       "      <td>0.38941</td>\n",
       "      <td>2.0</td>\n",
       "      <td>2.0</td>\n",
       "      <td>NaN</td>\n",
       "      <td>NaN</td>\n",
       "      <td>NaN</td>\n",
       "      <td>NaN</td>\n",
       "      <td>NaN</td>\n",
       "      <td>NaT</td>\n",
       "      <td>NaN</td>\n",
       "    </tr>\n",
       "    <tr>\n",
       "      <th>116</th>\n",
       "      <td>4586.233170</td>\n",
       "      <td>0.38941</td>\n",
       "      <td>2.0</td>\n",
       "      <td>3.0</td>\n",
       "      <td>NaN</td>\n",
       "      <td>NaN</td>\n",
       "      <td>NaN</td>\n",
       "      <td>NaN</td>\n",
       "      <td>NaN</td>\n",
       "      <td>NaT</td>\n",
       "      <td>NaN</td>\n",
       "    </tr>\n",
       "    <tr>\n",
       "      <th>117</th>\n",
       "      <td>4670.899219</td>\n",
       "      <td>0.23459</td>\n",
       "      <td>2.0</td>\n",
       "      <td>1.0</td>\n",
       "      <td>NaN</td>\n",
       "      <td>NaN</td>\n",
       "      <td>NaN</td>\n",
       "      <td>NaN</td>\n",
       "      <td>NaN</td>\n",
       "      <td>NaT</td>\n",
       "      <td>NaN</td>\n",
       "    </tr>\n",
       "    <tr>\n",
       "      <th>118</th>\n",
       "      <td>4670.899219</td>\n",
       "      <td>0.23459</td>\n",
       "      <td>2.0</td>\n",
       "      <td>2.0</td>\n",
       "      <td>NaN</td>\n",
       "      <td>NaN</td>\n",
       "      <td>NaN</td>\n",
       "      <td>NaN</td>\n",
       "      <td>NaN</td>\n",
       "      <td>NaT</td>\n",
       "      <td>NaN</td>\n",
       "    </tr>\n",
       "    <tr>\n",
       "      <th>119</th>\n",
       "      <td>4670.899219</td>\n",
       "      <td>0.23459</td>\n",
       "      <td>2.0</td>\n",
       "      <td>3.0</td>\n",
       "      <td>NaN</td>\n",
       "      <td>NaN</td>\n",
       "      <td>NaN</td>\n",
       "      <td>NaN</td>\n",
       "      <td>NaN</td>\n",
       "      <td>NaT</td>\n",
       "      <td>NaN</td>\n",
       "    </tr>\n",
       "  </tbody>\n",
       "</table>\n",
       "<p>120 rows × 11 columns</p>\n",
       "</div>"
      ],
      "text/plain": [
       "            Flow       LH  PrintID  Rep     Wmean     W1     W2     W3  \\\n",
       "0    3000.000000  0.40000      1.0  1.0  4.644000  4.675  4.469  4.788   \n",
       "1    3000.000000  0.40000      1.0  2.0  4.655333  4.532  4.733  4.701   \n",
       "2    3000.000000  0.40000      1.0  3.0  4.525000  4.620  4.472  4.483   \n",
       "3    3000.000000  0.40000      2.0  1.0  3.621000  3.712  3.680  3.471   \n",
       "4    3000.000000  0.40000      2.0  2.0  3.433667  3.248  3.512  3.541   \n",
       "..           ...      ...      ...  ...       ...    ...    ...    ...   \n",
       "115  4586.233170  0.38941      2.0  2.0       NaN    NaN    NaN    NaN   \n",
       "116  4586.233170  0.38941      2.0  3.0       NaN    NaN    NaN    NaN   \n",
       "117  4670.899219  0.23459      2.0  1.0       NaN    NaN    NaN    NaN   \n",
       "118  4670.899219  0.23459      2.0  2.0       NaN    NaN    NaN    NaN   \n",
       "119  4670.899219  0.23459      2.0  3.0       NaN    NaN    NaN    NaN   \n",
       "\n",
       "    Operator       Date Start Time  \n",
       "0         BS 2024-06-13   13:00:00  \n",
       "1         BS 2024-06-13   14:00:00  \n",
       "2         BS 2024-06-13   15:00:00  \n",
       "3         BS 2024-06-13   14:00:00  \n",
       "4         BS 2024-06-13   15:00:00  \n",
       "..       ...        ...        ...  \n",
       "115      NaN        NaT        NaN  \n",
       "116      NaN        NaT        NaN  \n",
       "117      NaN        NaT        NaN  \n",
       "118      NaN        NaT        NaN  \n",
       "119      NaN        NaT        NaN  \n",
       "\n",
       "[120 rows x 11 columns]"
      ]
     },
     "execution_count": 23,
     "metadata": {},
     "output_type": "execute_result"
    }
   ],
   "source": [
    "data_new2"
   ]
  },
  {
   "cell_type": "code",
   "execution_count": 24,
   "id": "865b9570-f142-4263-bad5-5deb231cf71f",
   "metadata": {},
   "outputs": [],
   "source": [
    "data_new2.to_excel(\"../data/data_noise_LPLA_random.xlsx\") "
   ]
  },
  {
   "cell_type": "code",
   "execution_count": 25,
   "id": "5bf19f2b-72b8-4377-bc01-6ae21d087841",
   "metadata": {},
   "outputs": [],
   "source": [
    "#np.savetxt('../data/initrandomdata.csv', random_all_comps_rep,  \n",
    "              #delimiter = \",\", header=\"Flow,LayerHeight,PrintID\", comments=\"\")"
   ]
  }
 ],
 "metadata": {
  "kernelspec": {
   "display_name": "Python 3 (ipykernel)",
   "language": "python",
   "name": "python3"
  },
  "language_info": {
   "codemirror_mode": {
    "name": "ipython",
    "version": 3
   },
   "file_extension": ".py",
   "mimetype": "text/x-python",
   "name": "python",
   "nbconvert_exporter": "python",
   "pygments_lexer": "ipython3",
   "version": "3.9.22"
  }
 },
 "nbformat": 4,
 "nbformat_minor": 5
}
