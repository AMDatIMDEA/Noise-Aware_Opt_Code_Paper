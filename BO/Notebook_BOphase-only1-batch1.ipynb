{
 "cells": [
  {
   "cell_type": "markdown",
   "id": "0486fe90-cfd7-44cd-9115-965f85e34a4d",
   "metadata": {},
   "source": [
    "# Single-objective Printing Optimization for 3 nominally identical 3D printers case study, Batch 1"
   ]
  },
  {
   "cell_type": "markdown",
   "id": "ab82a611-2790-4ce4-b1c4-6ae57f44e210",
   "metadata": {},
   "source": [
    "### written by Miguel Hernández, Christina Schenk\n",
    "\n",
    "last updated on 23 Oct 2025\n",
    "\n",
    "tested on Miguel's Mac, Christina's Mac\n",
    "\n",
    "This notebook creates suggestions for the batch 1 of the exploration-exploitation phase for performing Bayesian optimization for optimizing printing parameters targeting weight/density.\n",
    "\n",
    "It involves noise estimation for the noise coming from each of the three nominally identical 3D printers and involving multiple repetitions (sequential and simultaneous) as presented in \"Noise-Aware Optimization in Nominally Identical Measuring Systems for High-Throughput Parallel Workflows Manuscript\" by Christina Schenk et al. (2025). \n",
    "\n",
    "The steps of the workflow are the following:\n",
    "\n",
    "1. Define design setting\n",
    "2. Data import and formatting\n",
    "3. Customizing GP\n",
    "4. Initialization of the BO parameters\n",
    "5. BO phase: only 1 suggestion, EI acquisition function, fvGPOptimizer\n",
    "6. Evaluate results and plot contours\n",
    "7. Save suggestions to file\n",
    "8. Capture likelihood and hps output and save metadata"
   ]
  },
  {
   "cell_type": "code",
   "execution_count": 1,
   "id": "4d28382e-a1a2-421c-b196-d149d25dbe99",
   "metadata": {
    "tags": []
   },
   "outputs": [],
   "source": [
    "import os, copy\n",
    "from numpy import arange\n",
    "from numpy import meshgrid\n",
    "import pandas as pd\n",
    "import numpy as np\n",
    "import matplotlib.pyplot as plt\n",
    "from gpcam.gp_optimizer import GPOptimizer\n",
    "\n",
    "\n",
    "import random\n",
    "import sys\n",
    "\n",
    "import plotly.graph_objects as go\n",
    "\n",
    "from scipy.stats import norm\n",
    "from itertools import combinations\n",
    "import itertools as it\n",
    "\n",
    "import platform\n",
    "import yaml\n",
    "import time\n",
    "import io\n",
    "import random\n",
    "\n",
    "import ast\n",
    "import re\n",
    "import math\n"
   ]
  },
  {
   "cell_type": "markdown",
   "id": "b4d54c88-09a9-4882-b7de-10a55fd01ba2",
   "metadata": {},
   "source": [
    "### Plotting functions"
   ]
  },
  {
   "cell_type": "code",
   "execution_count": 2,
   "id": "5bcfb36e-ea5e-4efd-bfbb-9926cd5bf1b0",
   "metadata": {},
   "outputs": [],
   "source": [
    "\"\"\" Contour plot multiplot for comparison of inputs and outputs for plotting mean, covariance and acquisition.\n",
    "    \n",
    "        Parameters\n",
    "        ----------\n",
    "        X: input points (where we want to make predictions) first component in grid format\n",
    "        Y: input points (where we want to make predictions) second component in grid format\n",
    "        f_mean_re: reshaped posterior mean values\n",
    "        f_cov_re:reshaped posterior covariance values\n",
    "        f_acq_re:reshaped acquisition values\n",
    "        data: data points\n",
    "        iteration: integer, current iteration number\n",
    "        figurepath: string for path to folder where plots should be saved\n",
    "        title1: plot title string, e.g. Posterior mean, \n",
    "        title2: plot title string, e.g. Posterior covariance\n",
    "        title3: plot title string, e.g. Acquisition\n",
    "        titlexaxis: string of title for xaxis, default x (%)\n",
    "        titleyaxis: string of title for yaxis, default y (%)\n",
    "        \n",
    "        Returns\n",
    "        -------\n",
    "        Contour plot multiplot for comparison of inputs and outputs for plotting mean, covariance and acquisition.\n",
    "        \n",
    "\"\"\"\n",
    "#contourplot mean, covariance, acquistion function:\n",
    "def tracking_contourplot_mean_cov_acq(X, Y, f_mean_re, f_cov_re, f_acq_re, data, iteration, figurepath, title1=\"\", title2=\"\", title3=\"\",  titlexaxis=\"x (%)\", titleyaxis=\"y (%)\", batchsize = 1, task=1, taskname = None):\n",
    "    fig, ax = plt.subplots(1, 3, figsize=(12,4))\n",
    "    cp1 = ax[0].contourf(X, Y, f_mean_re)\n",
    "    cp2 = ax[1].contourf(X, Y, f_cov_re)\n",
    "    cp3 = ax[2].contourf(X, Y, f_acq_re)\n",
    "    if data is not None:\n",
    "        ax[0].scatter(x=data[:, 0], y=data[:, 1])\n",
    "        ax[0].scatter(x=data[-batchsize:, 0], y=data[-batchsize:, 1], c='r')\n",
    "        ax[1].scatter(x=data[:, 0], y=data[:, 1])\n",
    "        ax[1].scatter(x=data[-batchsize:, 0], y=data[-batchsize:, 1], c='r')\n",
    "        ax[2].scatter(x=data[:, 0], y=data[:, 1])\n",
    "        ax[2].scatter(x=data[-batchsize:, 0], y=data[-batchsize:, 1], c='r')\n",
    "    fig.colorbar(cp1, ax=ax[0])# Add a colorbar to a plot\n",
    "    fig.colorbar(cp2, ax=ax[1])# Add a colorbar to a plot\n",
    "    fig.colorbar(cp3, ax=ax[2])# Add a colorbar to a plot\n",
    "    fig.tight_layout(pad=5.0)\n",
    "    ax[0].set_title(title1+'\\n')\n",
    "    ax[1].set_title(title2+'\\n')\n",
    "    ax[2].set_title(title3+'\\n')\n",
    "    ax[0].set_ylabel(titleyaxis)\n",
    "    ax[0].set_xlabel(titlexaxis)\n",
    "    ax[1].set_ylabel(titleyaxis)\n",
    "    ax[1].set_xlabel(titlexaxis)\n",
    "    ax[2].set_ylabel(titleyaxis)\n",
    "    ax[2].set_xlabel(titlexaxis)\n",
    "    if taskname:\n",
    "        fig.suptitle(taskname+'\\n', fontsize=20)\n",
    "    plt.savefig(os.path.join(figurepath,\"plot\"+str(iteration)+\"T\"+str(task)+\".JPG\"))\n",
    "    plt.show()  \n",
    "    \n",
    "    \n",
    "\"\"\" Tracking plot multiplot for comparison of inputs and outputs for plotting mean in one plot and acquisition in another first for x and then for y.\n",
    "    \n",
    "        Parameters\n",
    "        ----------\n",
    "        x: input points (where we want to make predictions) first component in grid format\n",
    "        y: input points (where we want to make predictions) second component in grid format\n",
    "        points: original data plus new sample points\n",
    "        mean_points: posterior mean at points\n",
    "        acq_points: acquistion at points\n",
    "        f_mean: reshaped posterior mean values\n",
    "        f_acq: reshaped acquisition values\n",
    "        f_cov:reshaped posterior covariance values\n",
    "        f_acq_re:reshaped acquisition values\n",
    "        data: data points, e.g. np.column_stack([points[:,0], points[:,1]]\n",
    "        iteration: integer, current iteration number\n",
    "        title1: plot title string, e.g. Posterior mean+covariance\n",
    "        title2: plot title string, e.g. Acquisition\n",
    "        batchsize: number of newly generated points, so they are plotted in a different color\n",
    "        task: number of task for the multitasking case\n",
    "        taskname: name of the task for the multitasking case\n",
    "        Returns\n",
    "        -------\n",
    "        Tracking plot multiplot for comparison of inputs and outputs for plotting mean in one plot and acquisition in another first for x and then for y.\n",
    "\"\"\"\n",
    "\n",
    "#contourplot mean, covariance:\n",
    "def tracking_contourplot_mean_cov(X, Y, f_mean_re, f_cov_re, data, iteration, figurepath, title1=\"\", title2=\"\",  titlexaxis=\"x (%)\", titleyaxis=\"y (%)\", batchsize = 1, task=1, taskname = None):\n",
    "    fig, ax = plt.subplots(1, 2, figsize=(8,4))\n",
    "    cp1 = ax[0].contourf(X, Y, f_mean_re)\n",
    "    cp2 = ax[1].contourf(X, Y, f_cov_re)\n",
    "    if data is not None:\n",
    "        ax[0].scatter(x=data[:, 0], y=data[:, 1])\n",
    "        ax[0].scatter(x=data[-batchsize:, 0], y=data[-batchsize:, 1], c='r')\n",
    "        ax[1].scatter(x=data[:, 0], y=data[:, 1])\n",
    "        ax[1].scatter(x=data[-batchsize:, 0], y=data[-batchsize:, 1], c='r')\n",
    "    fig.colorbar(cp1, ax=ax[0])# Add a colorbar to a plot\n",
    "    fig.colorbar(cp2, ax=ax[1])# Add a colorbar to a plot\n",
    "    fig.tight_layout(pad=5.0)\n",
    "    ax[0].set_title(title1+'\\n')\n",
    "    ax[1].set_title(title2+'\\n')\n",
    "    ax[0].set_ylabel(titleyaxis)\n",
    "    ax[0].set_xlabel(titlexaxis)\n",
    "    ax[1].set_ylabel(titleyaxis)\n",
    "    ax[1].set_xlabel(titlexaxis)\n",
    "    if taskname:\n",
    "        fig.suptitle(taskname+'\\n', fontsize=20)\n",
    "    plt.savefig(os.path.join(figurepath,\"plot\"+str(iteration)+\"T\"+str(task)+\".JPG\"))\n",
    "    plt.show()  "
   ]
  },
  {
   "cell_type": "markdown",
   "id": "12c97a00-1e23-4ebe-8eb0-f3517fe7bfb2",
   "metadata": {},
   "source": [
    "### Kernel function"
   ]
  },
  {
   "cell_type": "code",
   "execution_count": 3,
   "id": "c2cedec2-74d8-4828-a81e-86c5baeefe7f",
   "metadata": {},
   "outputs": [],
   "source": [
    "def matern_kernel_diff1(distance, length):\n",
    "    \"\"\"\n",
    "    Function for the matern kernel, order of differentiablity = 1.\n",
    "    kernel = (1.0 + ((np.sqrt(3.0) * distance) / (length))) * np.exp(\n",
    "        -(np.sqrt(3.0) * distance) / length\n",
    "\n",
    "    Parameters\n",
    "    ----------\n",
    "    distance : scalar or np.ndarray\n",
    "        Distance between a set of points.\n",
    "    length : scalar\n",
    "        The length scale hyperparameters\n",
    "\n",
    "    Return\n",
    "    ------\n",
    "    A structure of the shape of the distance input parameter : float or np.ndarray\n",
    "    \"\"\"\n",
    "\n",
    "    kernel = (1.0 + ((np.sqrt(3.0) * distance) / (length))) * np.exp(\n",
    "        -(np.sqrt(3.0) * distance) / length\n",
    "    )\n",
    "    return kernel\n",
    "    \n",
    "def kernel_mat32_816(x1,x2,hyperparameters):\n",
    "    \"\"\"\n",
    "    Function for the default kernel, a Matern kernel of first-order differentiability.\n",
    "\n",
    "    Parameters\n",
    "    ----------\n",
    "    x1 : np.ndarray\n",
    "        Numpy array of shape (U x D)\n",
    "    x2 : np.ndarray\n",
    "        Numpy array of shape (V x D)\n",
    "    hyperparameters : np.ndarray\n",
    "        Array of hyperparameters. For this kernel we need D + 1 hyperparameters\n",
    "    obj : object instance\n",
    "        GP object instance.\n",
    "\n",
    "    Return\n",
    "    ------\n",
    "    A structure of the shape of the distance input parameter : float or np.ndarray\n",
    "    \"\"\"\n",
    "    hps = hyperparameters\n",
    "    distance_matrix = np.zeros((len(x1),len(x2)))\n",
    "    for i in range(len(x1[0])):\n",
    "        distance_matrix += abs(np.subtract.outer(x1[:,i],x2[:,i])/hps[1+i])**2\n",
    "    distance_matrix = np.sqrt(distance_matrix)\n",
    "    return hps[0] * matern_kernel_diff1(distance_matrix,1)"
   ]
  },
  {
   "cell_type": "markdown",
   "id": "10eebd02-2646-40ef-86a5-c32d1b569e3e",
   "metadata": {},
   "source": [
    "## 1. Define design setting"
   ]
  },
  {
   "cell_type": "code",
   "execution_count": 4,
   "id": "6ddce9e8-3b72-4f51-b0c1-3a0f4d016572",
   "metadata": {
    "tags": []
   },
   "outputs": [
    {
     "name": "stdin",
     "output_type": "stream",
     "text": [
      "Introduce batch number: 1\n",
      "Is this a test? y/n n\n",
      "Introduce printer numer (1-3):  1\n"
     ]
    }
   ],
   "source": [
    "#Lower and upper bounds for the parameters:\n",
    "#speed fixed at 100 and LW at 0.8\n",
    "f_lb = 1000\n",
    "f_ub = 5000\n",
    "lh_lb = 0.2\n",
    "lh_ub = 0.6\n",
    "\n",
    "#number of points in x and y direction at which we want to predict:\n",
    "n_pts = 100\n",
    "\n",
    "#number of autonomous experiments that you would like to run:\n",
    "N_exp = 1\n",
    "\n",
    "#dimension of design space:\n",
    "dim = 2\n",
    "\n",
    "n_batch = int(input(\"Introduce batch number:\"))\n",
    "is_this_a_test = input(\"Is this a test? y/n\")\n",
    "printer_number = int(input(\"Introduce printer numer (1-3): \"))"
   ]
  },
  {
   "cell_type": "markdown",
   "id": "19fee226-3a96-49e3-94b2-325e77220daf",
   "metadata": {},
   "source": [
    "## 2. Data\n",
    "\n",
    "Check that the data is the desired one before running the experiment"
   ]
  },
  {
   "cell_type": "code",
   "execution_count": 5,
   "id": "9601d4dc-89ae-4a65-8e52-52afe2dddaf6",
   "metadata": {
    "scrolled": true
   },
   "outputs": [],
   "source": [
    "dataset = \"../data/P\" + str(printer_number) + \"_3printers_Feb2025_data_noise_reformattedtasks_all.xlsx\"\n",
    "df = pd.read_excel(dataset, nrows=225, header=0)\n",
    "df = df.iloc[:, :7]\n",
    "df.iloc[:,0] = round(df.iloc[:,0])\n",
    "df.iloc[:,1] = round(df.iloc[:,1],2)\n",
    "data_array_expl = np.array(df)\n",
    "\n",
    "np.save('data/data_exploration.npy', data_array_expl)\n",
    "data_path = \"data\"\n",
    "data_npy = np.load(os.path.join(data_path,\"data_exploration.npy\"), allow_pickle=True)\n",
    "points = data_npy[:,0:2]\n",
    "\n",
    "#Calculate DeltaWs:\n",
    "volume = 80 * 13 * 3.2 * 1e-3\n",
    "expected_density = 1.24 #from the PLA datasheet \n",
    "#https://www.materialdatacenter.com/ms/en/Ingeo/NatureWorks+LLC/Ingeo%E2%84%A2+3251D/f483c129/5616\n",
    "expected_weight = volume * expected_density\n",
    "values = - abs(1-data_npy[:,3+printer_number]/expected_weight)"
   ]
  },
  {
   "cell_type": "markdown",
   "id": "8831a546-7b56-4b57-abb0-d52457b54986",
   "metadata": {},
   "source": [
    "## 3. Customizing a Gaussian Process"
   ]
  },
  {
   "cell_type": "markdown",
   "id": "c8afab13-0295-4edc-be5d-34615ab7e913",
   "metadata": {},
   "source": [
    "#### Define some points at which we will predict, still has nothing to do with gpCAM "
   ]
  },
  {
   "cell_type": "code",
   "execution_count": 6,
   "id": "8692a050-d9ec-4d6b-b8e5-07ec2f533b6e",
   "metadata": {},
   "outputs": [],
   "source": [
    "def my_noise(x,hps):\n",
    "    #This is a simple noise function, but can be arbitrarily complex using many hyperparameters.\n",
    "    #The noise function always has to return a matrix, because the noise can have covariances.\n",
    "    return np.zeros((len(x))) + hps[-1]"
   ]
  },
  {
   "cell_type": "code",
   "execution_count": 7,
   "id": "c6164b5d-c741-486c-852d-65a113d50e0b",
   "metadata": {},
   "outputs": [],
   "source": [
    "my_noise = my_noise"
   ]
  },
  {
   "cell_type": "markdown",
   "id": "30ecb7ae-3904-4ca7-babf-33f5fb762f54",
   "metadata": {},
   "source": [
    "#### Import/Specify kernel that want to use"
   ]
  },
  {
   "cell_type": "code",
   "execution_count": 8,
   "id": "91d6aeb6-f50e-460d-ab40-8ac5cb3e1e9e",
   "metadata": {},
   "outputs": [],
   "source": [
    "my_kernel = kernel_mat32_816"
   ]
  },
  {
   "cell_type": "markdown",
   "id": "e4c4c50e-c5b6-474c-b583-94822b5bcdc6",
   "metadata": {},
   "source": [
    "#### Define some points at which we will predict, still has nothing to do with gpCAM "
   ]
  },
  {
   "cell_type": "code",
   "execution_count": 9,
   "id": "369bccee-28da-40e4-8d7a-6af9ad1a7a91",
   "metadata": {
    "tags": []
   },
   "outputs": [],
   "source": [
    "x_pred = np.zeros((n_pts*n_pts,2))\n",
    "x = np.linspace(f_lb,f_ub,n_pts)\n",
    "y = np.linspace(lh_lb,lh_ub,n_pts)\n",
    "X,Y = np.meshgrid(x,y)\n",
    "counter = 0\n",
    "for i in  range(n_pts):\n",
    "    for j in range(n_pts):\n",
    "        x_pred[counter] = np.array([X[i,j],Y[i,j]])\n",
    "        counter += 1\n",
    "x_pred_acq = np.array(list(it.product(np.linspace(f_lb,f_ub,n_pts),np.linspace(lh_lb,lh_ub, n_pts))))"
   ]
  },
  {
   "cell_type": "markdown",
   "id": "1dc30b6c-6040-4249-9616-f100cfaf91ae",
   "metadata": {},
   "source": [
    "## 4. Initialization of the BO parameters"
   ]
  },
  {
   "cell_type": "code",
   "execution_count": 10,
   "id": "530c616b-0301-4118-a407-04ae2e2a7ff9",
   "metadata": {},
   "outputs": [],
   "source": [
    "my_acq_func = \"expected improvement\""
   ]
  },
  {
   "cell_type": "code",
   "execution_count": 11,
   "id": "39be4c82-a11d-47fd-93d5-595e293e91b6",
   "metadata": {},
   "outputs": [],
   "source": [
    "parameter_bounds = np.array([[f_lb, f_ub],[lh_lb, lh_ub]])\n",
    "guess1 = 100\n",
    "guess2 = 1\n",
    "guess3 = 1\n",
    "guess4 = 100\n",
    "guess5 = 0.01\n",
    "\n",
    "#stat kernel:\n",
    "hps_guess = np.array([guess1, guess2, guess3, guess5]) #nonstat printid #guess6, guess7,\n",
    "hps_bounds = np.array([[0.00001,100000.], #signal variance for the kernel\n",
    "                       [1.,10000.], #length scale 1 for the kernel\n",
    "                       [0.001,10.], #length scale 2 for the kernel\n",
    "                       [0.0001,1]  #noise task1\n",
    "                       ])"
   ]
  },
  {
   "cell_type": "markdown",
   "id": "8c05ddad-207e-4397-828e-afd5bd0508b4",
   "metadata": {},
   "source": [
    "## 5. Exploration-Exploitation Phase: EI acquisition function, GPOptimizer"
   ]
  },
  {
   "cell_type": "markdown",
   "id": "26c9ca43-f479-4ded-8ad2-315b0608592a",
   "metadata": {},
   "source": [
    "### 5.1 GP Training"
   ]
  },
  {
   "cell_type": "code",
   "execution_count": 12,
   "id": "317270c3-c092-4713-84e8-0f95a4158918",
   "metadata": {
    "scrolled": true
   },
   "outputs": [
    {
     "name": "stdout",
     "output_type": "stream",
     "text": [
      "loglikelihood 153.80518378451364\n",
      "loglikelihood after 372.49856172650027\n",
      "hps:  [4.23773895e-03 2.69573109e+01 6.07994490e+00 1.49477769e-03]\n",
      "Problematic length scales, re-training\n",
      "loglikelihood 2 after 372.2254893050805\n",
      "hps:  [4.32179209e-03 1.00283143e+02 7.82220414e-02 1.49696999e-03]\n"
     ]
    }
   ],
   "source": [
    "start_time  = time.time()\n",
    "my_gp = GPOptimizer(points, values,\n",
    "        init_hyperparameters = hps_guess,  # we need enough of those for kernel, noise and prior mean functions\n",
    "        #hyperparameter_bounds = hps_bounds,\n",
    "        #noise_variances=vars, # providing noise variances and a noise function will raise a warning \n",
    "        #compute_device='cpu',\n",
    "        #gp_kernel_function=my_kernel,#default for single task is Matern 3/2 kernel\n",
    "        #gp_kernel_function_grad=None, \n",
    "        gp_noise_function=my_noise\n",
    "        #info=True\n",
    "        )\n",
    "#print(my_gp.gp_kernel_function)\n",
    "print(\"loglikelihood\", my_gp.log_likelihood())\n",
    "my_gp.train(hyperparameter_bounds=hps_bounds)\n",
    "print(\"loglikelihood after\", my_gp.log_likelihood())\n",
    "\n",
    "current_hps = my_gp.get_hyperparameters()\n",
    "print(\"hps: \", current_hps)\n",
    "\n",
    "new_bounds = copy.copy(hps_bounds)\n",
    "retrain1 = True\n",
    "retrain2 = True\n",
    "\n",
    "while retrain1 == True or retrain2 == True:\n",
    "    if current_hps[1] > 10 * f_ub or current_hps[1] < f_lb / 10.: #6.54984846e+01:\n",
    "        new_bounds[1][1] = f_ub * 10\n",
    "        new_bounds[1][0] = f_lb / 10 #From multitask iteration but just evaluation 56.54984846e+01#\n",
    "        retrain1 = True\n",
    "    else:\n",
    "        retrain1 = False\n",
    "    if current_hps[2] > lh_ub * 10 or current_hps[2] < lh_lb / 10:#: From multitask iteration 57.13930758e+00\n",
    "        new_bounds[2][1] = lh_ub * 10#7.13930758e+00#\n",
    "        new_bounds[2][0] = lh_lb / 10\n",
    "        retrain2 = True\n",
    "    else:\n",
    "        retrain2 = False\n",
    "        \n",
    "\n",
    "    if retrain1 == True or retrain2 == True:\n",
    "        my_gp.train(hyperparameter_bounds=new_bounds)\n",
    "        print(\"Problematic length scales, re-training\")\n",
    "        print(\"loglikelihood 2 after\", my_gp.log_likelihood())\n",
    "        current_hps = my_gp.get_hyperparameters()\n",
    "        print(\"hps: \", current_hps)\n",
    "\n",
    "end_time = time.time()\n",
    "time_ = end_time-start_time"
   ]
  },
  {
   "cell_type": "markdown",
   "id": "c6d1c8da-8039-459f-a000-70b9bbfc457a",
   "metadata": {},
   "source": [
    "### 5.2 Capture likelihood and hps output and save metadata"
   ]
  },
  {
   "cell_type": "code",
   "execution_count": 13,
   "id": "cf8087e4-98b6-435b-9eaf-57232787ed3f",
   "metadata": {},
   "outputs": [],
   "source": [
    "# Step 1: Capture the printed output\n",
    "output_capture = io.StringIO()\n",
    "print_capture = print\n",
    "\n",
    "# Redirect print to the StringIO object\n",
    "print = lambda *args, **kwargs: print_capture(*args, **kwargs, file=output_capture)\n",
    "\n",
    "# Call the function and capture the output\n",
    "print(my_gp.log_likelihood())\n",
    "\n",
    "# Reset print to original function\n",
    "print = print_capture\n",
    "\n",
    "# Get the printed value as a string\n",
    "captured_output = output_capture.getvalue().strip()\n",
    "\n",
    "\n",
    "# Step 1: Capture the printed output\n",
    "output_capture_hps = io.StringIO()\n",
    "print_capture_hps = print\n",
    "\n",
    "# Redirect print to the StringIO object\n",
    "print = lambda *args, **kwargs: print_capture_hps(*args, **kwargs, file=output_capture_hps)\n",
    "\n",
    "# Call the function and capture the output\n",
    "print(my_gp.get_hyperparameters())\n",
    "\n",
    "# Reset print to original function\n",
    "print = print_capture_hps\n",
    "\n",
    "# Get the printed value as a string\n",
    "captured_output_hps = output_capture_hps.getvalue().strip()"
   ]
  },
  {
   "cell_type": "markdown",
   "id": "1cd62527-1919-4ff0-9b61-c1f24b562c72",
   "metadata": {},
   "source": [
    "### 5.3 BO"
   ]
  },
  {
   "cell_type": "code",
   "execution_count": 14,
   "id": "03c9971c-3637-4ca2-b4c3-31d715638bcd",
   "metadata": {},
   "outputs": [
    {
     "name": "stdout",
     "output_type": "stream",
     "text": [
      "kernel <function kernel_mat32_816 at 0x13e707280>\n",
      "loglikelihood 372.2254893050805\n",
      "current pts [3.93501636e+03 5.99693088e-01]\n",
      "current vals [0.02622583]\n",
      "hps:  [4.32179209e-03 1.00283143e+02 7.82220414e-02 1.49696999e-03]\n",
      "(10000,)\n"
     ]
    },
    {
     "data": {
      "image/png": "[encoded data removed]",
      "text/plain": [
       "<Figure size 1200x400 with 6 Axes>"
      ]
     },
     "metadata": {},
     "output_type": "display_data"
    },
    {
     "name": "stdout",
     "output_type": "stream",
     "text": [
      "hps:  [4.53392039e-03 3.06020264e+01 8.32551362e+00 1.49624960e-03]\n",
      "Problematic length scales, re-training\n",
      "loglikelihood 2 after 372.85093589915914\n",
      "hps:  [4.51188373e-03 1.02042186e+02 7.60601798e-02 1.49728858e-03]\n"
     ]
    }
   ],
   "source": [
    "i=1\n",
    "#print(\"acq\", my_acq_func)\n",
    "print(\"kernel\", my_kernel)\n",
    "print(\"loglikelihood\", my_gp.log_likelihood())\n",
    "nextp = my_gp.ask(parameter_bounds, n = 1, acquisition_function=my_acq_func, method=\"global\", vectorized=True)\n",
    "points = np.vstack((points, nextp['x']))\n",
    "points_array = np.asarray(points)\n",
    "print(\"current pts\", points[-1])\n",
    "x = nextp['x']\n",
    "\n",
    "#noise_param = (1 + hps_guess[-1] * random.choice([1, -1]))\n",
    "\n",
    "value = nextp[\"f(x)\"]#my_gp.posterior_mean(x)[\"f(x)\"]\n",
    "# Append the corresponding data for the printer\n",
    "values = np.vstack((values.reshape(-1,1), value.reshape(1,1)))\n",
    "\n",
    "# Example metadata\n",
    "metadata = {\n",
    "    \"kernel\": str(my_kernel), \n",
    "    \"likelihood before BO after training\": captured_output,\n",
    "    \"acqfunc\": my_acq_func,\n",
    "    \"n_batch\": n_batch,\n",
    "    \"n=1\": \"y\",\n",
    "    \"gp training time stationary\": time_,\n",
    "    \"hps before BO after training\": captured_output_hps,\n",
    "    \"values\": str(values[-N_exp:]),}\n",
    "\n",
    "if not os.path.exists(\"./Metadata/\"):\n",
    "    # Create a new directory because it does not exist\n",
    "    os.makedirs(\"./Metadata/\")\n",
    "    print(\"The new directory is created!\")\n",
    "\n",
    "if is_this_a_test == 'y':\n",
    "    metapath = \"Metadata/metadata_P\" + str(printer_number) + \"_\" + str(n_batch) + \"_Feb2025\" +\"_test\"+\".yaml\"\n",
    "else: \n",
    "    metapath = \"Metadata/metadata_P\" + str(printer_number) + \"_\" + str(n_batch) + \"_Feb2025.yaml\"\n",
    "# Save metadata to a YAML file\n",
    "with open(metapath, \"w\") as file:\n",
    "    yaml.dump(metadata, file)\n",
    "\n",
    "#print(\"Metadata saved to metadata.yaml\")\n",
    "                \n",
    "print(\"current vals\", values[-1])\n",
    "print(\"hps: \", my_gp.get_hyperparameters())\n",
    "    \n",
    "f = my_gp.posterior_mean(x_pred)[\"f(x)\"]\n",
    "\n",
    "f_cov = my_gp.posterior_covariance(x_pred, variance_only=False, add_noise=True)[\"v(x)\"]\n",
    "\n",
    "f_re = f.reshape(n_pts,n_pts)\n",
    "\n",
    "f_cov_re = f_cov.reshape(n_pts,n_pts)\n",
    "\n",
    " # #Plot some results for tracking in each iteration:\n",
    "title1 = \"Posterior mean\"\n",
    "title2 = \"Posterior covariance\"\n",
    "title3 = \"Acquisition\"\n",
    "if is_this_a_test == 'y':\n",
    "    figurepath = \"./animatedfigure_2024/contourplots_composition_opt_Feb2025_P\" + str(printer_number) + \"_\" + str(n_batch) + \"_\" + str(i) + \"_test/\"\n",
    "else:\n",
    "    figurepath = \"./animatedfigure_2024/contourplots_composition_opt_Feb2025_P\" + str(printer_number) + \"_\" + str(n_batch) + \"_\" + str(i) + \"/\"\n",
    "\n",
    "if not os.path.exists(figurepath):\n",
    "    # Create a new directory because it does not exist\n",
    "    os.makedirs(figurepath)\n",
    "    print(\"The new directory is created!\")\n",
    "    \n",
    "\n",
    "if my_acq_func==\"relative information entropy\" or my_acq_func==\"relative information entropy set\" or my_acq_func==\"total correlation\":\n",
    "    tracking_contourplot_mean_cov(X, Y, f_re, f_cov_re, np.column_stack([points[:,0], points[:,1]]), \n",
    "                                      i, figurepath, title1, title2, titlexaxis=\"flow\", titleyaxis=\"LH\", batchsize=1, task=1, taskname = f\"$\\\\Delta W_{{P{printer_number}}}$\")\n",
    "else:\n",
    "    f_acq = my_gp.evaluate_acquisition_function(x_pred, acquisition_function=my_acq_func)\n",
    "    \n",
    "    print(np.shape(f_acq))\n",
    "    f_acq_re = f_acq.reshape(n_pts, n_pts)\n",
    "    \n",
    "    tracking_contourplot_mean_cov_acq(X, Y, f_re, f_cov_re, f_acq_re, np.column_stack([points[:,0], points[:,1]]), \n",
    "                                      i, figurepath, title1, title2, title3, titlexaxis=\"flow\", titleyaxis=\"LH\", batchsize=1, task=1, taskname = f\"$\\\\Delta W_{{P{printer_number}}}$\")\n",
    "my_gp.tell(points, values.flatten())\n",
    "my_gp.train(hyperparameter_bounds=hps_bounds)\n",
    "\n",
    "current_hps = my_gp.get_hyperparameters()\n",
    "print(\"hps: \", current_hps)\n",
    "new_bounds = copy.copy(hps_bounds)\n",
    "retrain1 = True\n",
    "retrain2 = True\n",
    "\n",
    "while retrain1 == True or retrain2 == True:\n",
    "    if current_hps[1] > 10 * f_ub or current_hps[1] < f_lb / 10.: #6.54984846e+01:\n",
    "        new_bounds[1][1] = f_ub * 10\n",
    "        new_bounds[1][0] = f_lb / 10 #From multitask iteration but just evaluation 56.54984846e+01#\n",
    "        retrain1 = True\n",
    "    else:\n",
    "        retrain1 = False\n",
    "    if current_hps[2] > lh_ub * 10 or current_hps[2] < lh_lb / 10: #: From multitask iteration 57.13930758e+00\n",
    "        new_bounds[2][1] = lh_ub * 10 #7.13930758e+00#\n",
    "        new_bounds[2][0] = lh_lb / 10\n",
    "        retrain2 = True\n",
    "    else:\n",
    "        retrain2 = False\n",
    "        \n",
    "\n",
    "    if retrain1 == True or retrain2 == True:\n",
    "        my_gp.train(hyperparameter_bounds=new_bounds)\n",
    "        print(\"Problematic length scales, re-training\")\n",
    "        print(\"loglikelihood 2 after\", my_gp.log_likelihood())\n",
    "        current_hps = my_gp.get_hyperparameters()\n",
    "        print(\"hps: \", current_hps)"
   ]
  },
  {
   "cell_type": "markdown",
   "id": "0407245b-a98c-4bf9-8ee3-c7521ee31d65",
   "metadata": {},
   "source": [
    "## 6. Evaluate results and plot contours"
   ]
  },
  {
   "cell_type": "code",
   "execution_count": 15,
   "id": "46cb00fb-4fd9-4d03-831b-ac4496008304",
   "metadata": {
    "scrolled": true,
    "tags": []
   },
   "outputs": [
    {
     "data": {
      "image/png": "[encoded data removed]",
      "text/plain": [
       "<Figure size 1200x400 with 6 Axes>"
      ]
     },
     "metadata": {},
     "output_type": "display_data"
    }
   ],
   "source": [
    "f = my_gp.posterior_mean(x_pred)[\"f(x)\"]\n",
    "\n",
    "f_cov = my_gp.posterior_covariance(x_pred, variance_only=False, add_noise=True)[\"v(x)\"]\n",
    "\n",
    "f_re = f.reshape(n_pts,n_pts)\n",
    "\n",
    "f_cov_re = f_cov.reshape(n_pts,n_pts)\n",
    "\n",
    " # #Plot some results for tracking in each iteration:\n",
    "title1 = \"Posterior mean\"\n",
    "title2 = \"Posterior covariance\"\n",
    "title3 = \"Acquisition\"\n",
    "if is_this_a_test == 'y':\n",
    "    figurepath = \"./animatedfigure_2024/contourplots_composition_opt_eval_Feb2025_P\" + str(printer_number) + \"_\" + str(n_batch) + \"_\" + str(i) + \"_test/\"\n",
    "else:\n",
    "    figurepath = \"./animatedfigure_2024/contourplots_composition_opt_eval_Feb2025_P\" + str(printer_number) + \"_\" + str(n_batch) + \"_\" + str(i) + \"/\"\n",
    "\n",
    "if not os.path.exists(figurepath):\n",
    "    # Create a new directory because it does not exist\n",
    "    os.makedirs(figurepath)\n",
    "    print(\"The new directory is created!\")\n",
    "\n",
    "\n",
    "if my_acq_func==\"relative information entropy\" or my_acq_func==\"relative information entropy set\" or my_acq_func==\"total correlation\":\n",
    "    f_acq = my_gp.evaluate_acquisition_function(x_pred, acquisition_function=my_acq_func)\n",
    "    \n",
    "    tracking_contourplot_mean_cov(X, Y, f_re, f_cov_re, np.column_stack([points[:,0], points[:,1]]), \n",
    "                                      n_batch, figurepath, title1, title2, titlexaxis=\"flow\", titleyaxis=\"LH\", batchsize=1, task=1, taskname = f\"$\\\\Delta W_{{P{printer_number}}}$\")\n",
    "    \n",
    "else:\n",
    "    f_acq = my_gp.evaluate_acquisition_function(x_pred, acquisition_function=my_acq_func)#, points_pred = np.zeros((len(points)*len(points),2)))\n",
    "    \n",
    "    f_acq_re = f_acq.reshape(n_pts, n_pts)\n",
    "    \n",
    "    tracking_contourplot_mean_cov_acq(X, Y, f_re, f_cov_re, f_acq_re, np.column_stack([points[:,0], points[:,1]]), \n",
    "                                          n_batch, figurepath, title1, title2, title3, titlexaxis=\"flow\", titleyaxis=\"LH\", batchsize=1, task=1, taskname = f\"$\\\\Delta W_{{P{printer_number}}}$\")\n",
    "    "
   ]
  },
  {
   "cell_type": "markdown",
   "id": "05a76e28-1ca7-409c-a917-4e443c84bc87",
   "metadata": {},
   "source": [
    "### Save max acquistion function value"
   ]
  },
  {
   "cell_type": "code",
   "execution_count": 16,
   "id": "77db3a4a-662a-44ca-80db-f427212a4dbf",
   "metadata": {},
   "outputs": [
    {
     "name": "stdout",
     "output_type": "stream",
     "text": [
      "0.013376161058523274\n"
     ]
    }
   ],
   "source": [
    "maxacq = max(my_gp.evaluate_acquisition_function(points, acquisition_function=my_acq_func))\n",
    "print(maxacq)\n"
   ]
  },
  {
   "cell_type": "markdown",
   "id": "4dbc19d6-0249-45fe-b7cc-bc13961b6b8a",
   "metadata": {
    "tags": []
   },
   "source": [
    "## 7. Save suggestions to file"
   ]
  },
  {
   "cell_type": "code",
   "execution_count": 17,
   "id": "2c62c78b-ab95-483f-a84f-2847adc255db",
   "metadata": {},
   "outputs": [
    {
     "name": "stdout",
     "output_type": "stream",
     "text": [
      "       Flow    LH  Rep_sim  Rep_seq   W_P1   W_P2   W_P3\n",
      "0    3000.0  0.40        1        1  3.723  4.228  5.124\n",
      "1    3000.0  0.40        2        1  3.848  4.170  4.999\n",
      "2    3000.0  0.40        3        1  3.893  4.127  4.988\n",
      "3    3000.0  0.40        1        2  3.801  4.128  5.299\n",
      "4    3000.0  0.40        2        2  4.061  4.164  5.268\n",
      "..      ...   ...      ...      ...    ...    ...    ...\n",
      "223  3518.0  0.45        2        3  4.057  4.792  4.903\n",
      "224  3518.0  0.45        3        3  3.897  4.609  4.873\n",
      "225  3935.0  0.60        1        1    NaN    NaN    NaN\n",
      "226  3935.0  0.60        2        1    NaN    NaN    NaN\n",
      "227  3935.0  0.60        3        1    NaN    NaN    NaN\n",
      "\n",
      "[228 rows x 7 columns]\n"
     ]
    },
    {
     "name": "stderr",
     "output_type": "stream",
     "text": [
      "/var/folders/63/vmpx1vmx3s59d2ky2fm1zzww0000gp/T/ipykernel_2669/865682798.py:19: FutureWarning: The behavior of DataFrame concatenation with empty or all-NA entries is deprecated. In a future version, this will no longer exclude empty or all-NA columns when determining the result dtypes. To retain the old behavior, exclude the relevant entries before the concat operation.\n",
      "  df.loc[len(df)] = new_row\n",
      "/var/folders/63/vmpx1vmx3s59d2ky2fm1zzww0000gp/T/ipykernel_2669/865682798.py:19: FutureWarning: The behavior of DataFrame concatenation with empty or all-NA entries is deprecated. In a future version, this will no longer exclude empty or all-NA columns when determining the result dtypes. To retain the old behavior, exclude the relevant entries before the concat operation.\n",
      "  df.loc[len(df)] = new_row\n",
      "/var/folders/63/vmpx1vmx3s59d2ky2fm1zzww0000gp/T/ipykernel_2669/865682798.py:19: FutureWarning: The behavior of DataFrame concatenation with empty or all-NA entries is deprecated. In a future version, this will no longer exclude empty or all-NA columns when determining the result dtypes. To retain the old behavior, exclude the relevant entries before the concat operation.\n",
      "  df.loc[len(df)] = new_row\n"
     ]
    }
   ],
   "source": [
    "point = points[-N_exp:]\n",
    "# Run the loop\n",
    "for i in range(len(point)):\n",
    "    for rep_sim in [1, 2, 3]:\n",
    "        #weight_columns = ['W_P1', 'W_P2', 'W_P3']\n",
    "        weight_column = 'W_P1'#weight_columns[random_order[rep_sim - 1] - 1]\n",
    "\n",
    "        new_row = {\n",
    "            'Flow': round(point[i][0]),\n",
    "            'LH': round(point[i][1], 2),\n",
    "            'Rep_seq': printer_number,\n",
    "            'Rep_sim': rep_sim,\n",
    "            'W_P1': None,\n",
    "            'W_P2': None,\n",
    "            'W_P3': None\n",
    "        }\n",
    "\n",
    "        new_row[weight_column] = np.nan\n",
    "        df.loc[len(df)] = new_row\n",
    "\n",
    "print(df)"
   ]
  },
  {
   "cell_type": "code",
   "execution_count": 18,
   "id": "57b0f8c9-ce72-4b89-bfbc-ce2412bdb59a",
   "metadata": {},
   "outputs": [
    {
     "name": "stdin",
     "output_type": "stream",
     "text": [
      "There is already a document with that name, do you want to overwrite it? y/n n\n"
     ]
    }
   ],
   "source": [
    "fname = \"./data/data-experiment-Feb2025-P\" + str(printer_number) + \"_\" +str(n_batch)+\".csv\"\n",
    "if os.path.isfile(fname):\n",
    "    save_data = input(\"There is already a document with that name, do you want to overwrite it? y/n\")\n",
    "    if save_data == 'y':\n",
    "        df.to_csv(fname)\n",
    "else:\n",
    "    df.to_csv(fname)"
   ]
  },
  {
   "cell_type": "markdown",
   "id": "f76609e2-5de9-4bd2-9da2-af993b208fd1",
   "metadata": {},
   "source": [
    "### Save results to file"
   ]
  },
  {
   "cell_type": "code",
   "execution_count": 19,
   "id": "cb62d4e4-9f5b-4bc8-8f0d-1355b90d83d9",
   "metadata": {},
   "outputs": [],
   "source": [
    "def write_results_to_file(x_pred, f_mean, f_cov, f_acq = None, filename=\"\"):\n",
    "    if f_acq:\n",
    "        np.save(filename, np.column_stack([x_pred, f_mean, f_cov, f_acq]))\n",
    "    else:\n",
    "        np.save(filename, np.column_stack([x_pred, f_mean, f_cov]))"
   ]
  },
  {
   "cell_type": "code",
   "execution_count": 20,
   "id": "a87fd679-c972-4316-bd0a-b9ecb8e43962",
   "metadata": {
    "tags": []
   },
   "outputs": [],
   "source": [
    "filename1 = 'Outputs/output_singleobject_Feb2025_P' + str(printer_number) + '_' + str(n_batch) + '.npy'\n",
    "\n",
    "if isinstance(my_acq_func, str)==False:\n",
    "    write_results_to_file(x_pred, f, f_cov_norm, f_acq = f_acq_norm, filename = filename1)\n",
    "else:\n",
    "    write_results_to_file(x_pred, f, f_cov, f_acq = None, filename = filename1)"
   ]
  },
  {
   "cell_type": "markdown",
   "id": "ea364e72-421a-40ef-aff6-946e45ceb87e",
   "metadata": {},
   "source": [
    "## 8 Capture likelihood and hps output and save metadata"
   ]
  },
  {
   "cell_type": "code",
   "execution_count": 21,
   "id": "55a35850-b32d-4cc1-8e30-2eec6d6f7a93",
   "metadata": {},
   "outputs": [],
   "source": [
    "# Step 1: Capture the printed output\n",
    "output_capture = io.StringIO()\n",
    "print_capture = print\n",
    "\n",
    "# Redirect print to the StringIO object\n",
    "print = lambda *args, **kwargs: print_capture(*args, **kwargs, file=output_capture)\n",
    "\n",
    "# Call the function and capture the output\n",
    "print(my_gp.log_likelihood())\n",
    "\n",
    "# Reset print to original function\n",
    "print = print_capture\n",
    "\n",
    "# Get the printed value as a string\n",
    "captured_output = output_capture.getvalue().strip()\n",
    "\n",
    "\n",
    "# Step 1: Capture the printed output\n",
    "output_capture_hps = io.StringIO()\n",
    "print_capture_hps = print\n",
    "\n",
    "# Redirect print to the StringIO object\n",
    "print = lambda *args, **kwargs: print_capture_hps(*args, **kwargs, file=output_capture_hps)\n",
    "\n",
    "# Call the function and capture the output\n",
    "print(my_gp.get_hyperparameters())\n",
    "\n",
    "# Reset print to original function\n",
    "print = print_capture_hps\n",
    "\n",
    "# Get the printed value as a string\n",
    "captured_output_hps = output_capture_hps.getvalue().strip()"
   ]
  },
  {
   "cell_type": "code",
   "execution_count": 22,
   "id": "a04ae06b-b13b-4ad1-b1bd-91a05c81446d",
   "metadata": {},
   "outputs": [],
   "source": [
    "# Example metadata\n",
    "metadata = {\n",
    "    \"kernel\": str(my_kernel), \n",
    "    \"likelihood after BO after training\": captured_output,\n",
    "    \"acqfunc\": my_acq_func,\n",
    "    \"n_batch\": n_batch,\n",
    "    \"n=1\": \"y\",\n",
    "    \"gp training time stationary\": time_,\n",
    "    \"hps after BO after training\": captured_output_hps,\n",
    "    \"values\": str(values[-N_exp:]),\n",
    "    \"maxacq\": str(maxacq)\n",
    "}\n",
    "\n",
    "if not os.path.exists(\"./Metadata/\"):\n",
    "    # Create a new directory because it does not exist\n",
    "    os.makedirs(\"./Metadata/\")\n",
    "    print(\"The new directory is created!\")\n",
    "    \n",
    "# Save metadata to a YAML file\n",
    "if is_this_a_test == 'y':\n",
    "    metapath = \"Metadata/metadata_after_BOP\" + str(printer_number) + \"_\" + str(n_batch) + \"_Feb2025\"+\"_test\"+\".yaml\"\n",
    "else: \n",
    "    metapath = \"Metadata/metadata_after_BOP\" + str(printer_number) + \"_\" + str(n_batch) + \"_Feb2025.yaml\"\n",
    "with open(metapath, \"w\") as file:\n",
    "    yaml.dump(metadata, file)"
   ]
  }
 ],
 "metadata": {
  "kernelspec": {
   "display_name": "Python 3 (ipykernel)",
   "language": "python",
   "name": "python3"
  },
  "language_info": {
   "codemirror_mode": {
    "name": "ipython",
    "version": 3
   },
   "file_extension": ".py",
   "mimetype": "text/x-python",
   "name": "python",
   "nbconvert_exporter": "python",
   "pygments_lexer": "ipython3",
   "version": "3.9.22"
  }
 },
 "nbformat": 4,
 "nbformat_minor": 5
}
